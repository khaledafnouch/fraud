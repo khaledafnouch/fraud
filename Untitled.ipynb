{
 "cells": [
  {
   "cell_type": "code",
   "execution_count": 1,
   "id": "35ca0967",
   "metadata": {},
   "outputs": [],
   "source": [
    "import pandas as pd\n",
    "import matplotlib.pyplot as plt\n",
    "from matplotlib.patches import Rectangle\n",
    "import numpy as np\n",
    "from pprint import pprint as pp\n",
    "import csv\n",
    "from pathlib import Path\n",
    "import seaborn as sns\n",
    "from itertools import product\n",
    "import string\n",
    "import os\n",
    "import nltk\n",
    "from nltk.corpus import stopwords\n",
    "from nltk.stem.wordnet import WordNetLemmatizer\n",
    "\n",
    "from imblearn.over_sampling import SMOTE\n",
    "from imblearn.over_sampling import BorderlineSMOTE\n",
    "from imblearn.pipeline import Pipeline \n",
    "\n",
    "from sklearn.linear_model import LinearRegression, LogisticRegression\n",
    "from sklearn.model_selection import train_test_split, GridSearchCV\n",
    "from sklearn.tree import DecisionTreeClassifier\n",
    "from sklearn.metrics import r2_score, classification_report, confusion_matrix, accuracy_score, roc_auc_score, roc_curve, precision_recall_curve, average_precision_score\n",
    "from sklearn.metrics import homogeneity_score, silhouette_score\n",
    "from sklearn.ensemble import RandomForestClassifier, VotingClassifier\n",
    "from sklearn.preprocessing import MinMaxScaler\n",
    "from sklearn.cluster import MiniBatchKMeans, DBSCAN\n",
    "\n",
    "import gensim\n",
    "from gensim import corpora"
   ]
  },
  {
   "cell_type": "code",
   "execution_count": 2,
   "id": "03a19f21",
   "metadata": {},
   "outputs": [],
   "source": [
    "pd.set_option('display.max_columns', 700)\n",
    "pd.set_option('display.max_rows', 400)\n",
    "pd.set_option('display.min_rows', 10)\n",
    "pd.set_option('display.expand_frame_repr', True)"
   ]
  },
  {
   "cell_type": "code",
   "execution_count": 3,
   "id": "62350b69",
   "metadata": {},
   "outputs": [],
   "source": [
    "data = Path.cwd() \n",
    "ch1 = data / 'data'\n",
    "cc1_file = ch1 / 'creditcard_sampledata.csv'\n",
    "cc3_file = ch1 / 'creditcard_sampledata_3.csv'"
   ]
  },
  {
   "cell_type": "code",
   "execution_count": 4,
   "id": "4d04d6ff",
   "metadata": {
    "scrolled": true
   },
   "outputs": [],
   "source": [
    "df = pd.read_csv(cc1_file)\n"
   ]
  },
  {
   "cell_type": "code",
   "execution_count": 9,
   "id": "048f4801",
   "metadata": {},
   "outputs": [
    {
     "name": "stdout",
     "output_type": "stream",
     "text": [
      "<class 'pandas.core.frame.DataFrame'>\n",
      "RangeIndex: 8000 entries, 0 to 7999\n",
      "Data columns (total 32 columns):\n",
      " #   Column      Non-Null Count  Dtype  \n",
      "---  ------      --------------  -----  \n",
      " 0   Unnamed: 0  8000 non-null   int64  \n",
      " 1   Time        8000 non-null   int64  \n",
      " 2   V1          8000 non-null   float64\n",
      " 3   V2          8000 non-null   float64\n",
      " 4   V3          8000 non-null   float64\n",
      " 5   V4          8000 non-null   float64\n",
      " 6   V5          8000 non-null   float64\n",
      " 7   V6          8000 non-null   float64\n",
      " 8   V7          8000 non-null   float64\n",
      " 9   V8          8000 non-null   float64\n",
      " 10  V9          8000 non-null   float64\n",
      " 11  V10         8000 non-null   float64\n",
      " 12  V11         8000 non-null   float64\n",
      " 13  V12         8000 non-null   float64\n",
      " 14  V13         8000 non-null   float64\n",
      " 15  V14         8000 non-null   float64\n",
      " 16  V15         8000 non-null   float64\n",
      " 17  V16         8000 non-null   float64\n",
      " 18  V17         8000 non-null   float64\n",
      " 19  V18         8000 non-null   float64\n",
      " 20  V19         8000 non-null   float64\n",
      " 21  V20         8000 non-null   float64\n",
      " 22  V21         8000 non-null   float64\n",
      " 23  V22         8000 non-null   float64\n",
      " 24  V23         8000 non-null   float64\n",
      " 25  V24         8000 non-null   float64\n",
      " 26  V25         8000 non-null   float64\n",
      " 27  V26         8000 non-null   float64\n",
      " 28  V27         8000 non-null   float64\n",
      " 29  V28         8000 non-null   float64\n",
      " 30  Amount      8000 non-null   float64\n",
      " 31  Class       8000 non-null   int64  \n",
      "dtypes: float64(29), int64(3)\n",
      "memory usage: 2.0 MB\n"
     ]
    }
   ],
   "source": [
    "df.info()"
   ]
  },
  {
   "cell_type": "code",
   "execution_count": 5,
   "id": "b17771ab",
   "metadata": {},
   "outputs": [
    {
     "data": {
      "text/html": [
       "<div>\n",
       "<style scoped>\n",
       "    .dataframe tbody tr th:only-of-type {\n",
       "        vertical-align: middle;\n",
       "    }\n",
       "\n",
       "    .dataframe tbody tr th {\n",
       "        vertical-align: top;\n",
       "    }\n",
       "\n",
       "    .dataframe thead th {\n",
       "        text-align: right;\n",
       "    }\n",
       "</style>\n",
       "<table border=\"1\" class=\"dataframe\">\n",
       "  <thead>\n",
       "    <tr style=\"text-align: right;\">\n",
       "      <th></th>\n",
       "      <th>Unnamed: 0</th>\n",
       "      <th>Time</th>\n",
       "      <th>V1</th>\n",
       "      <th>V2</th>\n",
       "      <th>V3</th>\n",
       "      <th>V4</th>\n",
       "      <th>V5</th>\n",
       "      <th>V6</th>\n",
       "      <th>V7</th>\n",
       "      <th>V8</th>\n",
       "      <th>V9</th>\n",
       "      <th>V10</th>\n",
       "      <th>V11</th>\n",
       "      <th>V12</th>\n",
       "      <th>V13</th>\n",
       "      <th>V14</th>\n",
       "      <th>V15</th>\n",
       "      <th>V16</th>\n",
       "      <th>V17</th>\n",
       "      <th>V18</th>\n",
       "      <th>V19</th>\n",
       "      <th>V20</th>\n",
       "      <th>V21</th>\n",
       "      <th>V22</th>\n",
       "      <th>V23</th>\n",
       "      <th>V24</th>\n",
       "      <th>V25</th>\n",
       "      <th>V26</th>\n",
       "      <th>V27</th>\n",
       "      <th>V28</th>\n",
       "      <th>Amount</th>\n",
       "      <th>Class</th>\n",
       "    </tr>\n",
       "  </thead>\n",
       "  <tbody>\n",
       "    <tr>\n",
       "      <th>0</th>\n",
       "      <td>0</td>\n",
       "      <td>64</td>\n",
       "      <td>1.212511</td>\n",
       "      <td>-0.099054</td>\n",
       "      <td>-1.192094</td>\n",
       "      <td>0.286324</td>\n",
       "      <td>2.160516</td>\n",
       "      <td>3.616314</td>\n",
       "      <td>-0.404207</td>\n",
       "      <td>0.842331</td>\n",
       "      <td>0.169360</td>\n",
       "      <td>-0.030522</td>\n",
       "      <td>-0.541957</td>\n",
       "      <td>0.237212</td>\n",
       "      <td>-0.218130</td>\n",
       "      <td>0.197437</td>\n",
       "      <td>-0.147850</td>\n",
       "      <td>-0.097830</td>\n",
       "      <td>-0.510053</td>\n",
       "      <td>-0.070939</td>\n",
       "      <td>0.355171</td>\n",
       "      <td>0.014777</td>\n",
       "      <td>-0.167496</td>\n",
       "      <td>-0.494695</td>\n",
       "      <td>-0.149785</td>\n",
       "      <td>1.011227</td>\n",
       "      <td>0.883548</td>\n",
       "      <td>-0.329434</td>\n",
       "      <td>0.020370</td>\n",
       "      <td>0.017037</td>\n",
       "      <td>34.70</td>\n",
       "      <td>0</td>\n",
       "    </tr>\n",
       "    <tr>\n",
       "      <th>1</th>\n",
       "      <td>1</td>\n",
       "      <td>64</td>\n",
       "      <td>-0.658305</td>\n",
       "      <td>0.406791</td>\n",
       "      <td>2.037461</td>\n",
       "      <td>-0.291298</td>\n",
       "      <td>0.147910</td>\n",
       "      <td>-0.350857</td>\n",
       "      <td>0.945373</td>\n",
       "      <td>-0.172560</td>\n",
       "      <td>0.025133</td>\n",
       "      <td>-0.778135</td>\n",
       "      <td>-0.196290</td>\n",
       "      <td>0.632955</td>\n",
       "      <td>0.374025</td>\n",
       "      <td>-0.531597</td>\n",
       "      <td>-0.615063</td>\n",
       "      <td>-0.518078</td>\n",
       "      <td>0.003881</td>\n",
       "      <td>-1.288954</td>\n",
       "      <td>-0.797804</td>\n",
       "      <td>0.064133</td>\n",
       "      <td>-0.156096</td>\n",
       "      <td>-0.238805</td>\n",
       "      <td>0.089877</td>\n",
       "      <td>0.421195</td>\n",
       "      <td>-0.352487</td>\n",
       "      <td>0.074783</td>\n",
       "      <td>-0.094192</td>\n",
       "      <td>-0.092493</td>\n",
       "      <td>54.99</td>\n",
       "      <td>0</td>\n",
       "    </tr>\n",
       "    <tr>\n",
       "      <th>2</th>\n",
       "      <td>2</td>\n",
       "      <td>124</td>\n",
       "      <td>1.105253</td>\n",
       "      <td>0.541842</td>\n",
       "      <td>0.839421</td>\n",
       "      <td>2.570933</td>\n",
       "      <td>-0.279517</td>\n",
       "      <td>-0.423062</td>\n",
       "      <td>0.088019</td>\n",
       "      <td>0.011622</td>\n",
       "      <td>-0.715756</td>\n",
       "      <td>0.651379</td>\n",
       "      <td>0.073787</td>\n",
       "      <td>-0.142024</td>\n",
       "      <td>-0.739457</td>\n",
       "      <td>0.502639</td>\n",
       "      <td>0.736688</td>\n",
       "      <td>0.256745</td>\n",
       "      <td>-0.093732</td>\n",
       "      <td>-1.011416</td>\n",
       "      <td>-1.465500</td>\n",
       "      <td>-0.239883</td>\n",
       "      <td>-0.137434</td>\n",
       "      <td>-0.460991</td>\n",
       "      <td>0.189397</td>\n",
       "      <td>0.556329</td>\n",
       "      <td>0.185786</td>\n",
       "      <td>-0.189030</td>\n",
       "      <td>0.000208</td>\n",
       "      <td>0.026167</td>\n",
       "      <td>6.24</td>\n",
       "      <td>0</td>\n",
       "    </tr>\n",
       "    <tr>\n",
       "      <th>3</th>\n",
       "      <td>3</td>\n",
       "      <td>128</td>\n",
       "      <td>1.239495</td>\n",
       "      <td>-0.182609</td>\n",
       "      <td>0.155058</td>\n",
       "      <td>-0.928892</td>\n",
       "      <td>-0.746227</td>\n",
       "      <td>-1.235608</td>\n",
       "      <td>-0.061695</td>\n",
       "      <td>-0.125223</td>\n",
       "      <td>0.984938</td>\n",
       "      <td>-0.746625</td>\n",
       "      <td>1.563459</td>\n",
       "      <td>0.890132</td>\n",
       "      <td>-0.985159</td>\n",
       "      <td>0.778734</td>\n",
       "      <td>1.016974</td>\n",
       "      <td>-0.429490</td>\n",
       "      <td>-0.335787</td>\n",
       "      <td>0.614690</td>\n",
       "      <td>0.703133</td>\n",
       "      <td>-0.160406</td>\n",
       "      <td>0.146077</td>\n",
       "      <td>0.481119</td>\n",
       "      <td>-0.140019</td>\n",
       "      <td>0.538261</td>\n",
       "      <td>0.710720</td>\n",
       "      <td>-0.621382</td>\n",
       "      <td>0.036867</td>\n",
       "      <td>0.010963</td>\n",
       "      <td>8.80</td>\n",
       "      <td>0</td>\n",
       "    </tr>\n",
       "    <tr>\n",
       "      <th>4</th>\n",
       "      <td>4</td>\n",
       "      <td>132</td>\n",
       "      <td>-1.571359</td>\n",
       "      <td>1.687508</td>\n",
       "      <td>0.734670</td>\n",
       "      <td>1.293350</td>\n",
       "      <td>-0.217532</td>\n",
       "      <td>-0.002677</td>\n",
       "      <td>0.147364</td>\n",
       "      <td>0.515362</td>\n",
       "      <td>-0.372442</td>\n",
       "      <td>0.078021</td>\n",
       "      <td>-0.592495</td>\n",
       "      <td>0.997941</td>\n",
       "      <td>1.109328</td>\n",
       "      <td>0.060048</td>\n",
       "      <td>0.086141</td>\n",
       "      <td>-1.149893</td>\n",
       "      <td>0.765198</td>\n",
       "      <td>-0.810589</td>\n",
       "      <td>0.737550</td>\n",
       "      <td>-0.093614</td>\n",
       "      <td>0.048549</td>\n",
       "      <td>0.377256</td>\n",
       "      <td>-0.030436</td>\n",
       "      <td>0.117608</td>\n",
       "      <td>-0.060520</td>\n",
       "      <td>-0.296550</td>\n",
       "      <td>-0.481570</td>\n",
       "      <td>-0.167897</td>\n",
       "      <td>10.00</td>\n",
       "      <td>0</td>\n",
       "    </tr>\n",
       "  </tbody>\n",
       "</table>\n",
       "</div>"
      ],
      "text/plain": [
       "   Unnamed: 0  Time        V1        V2        V3        V4        V5  \\\n",
       "0           0    64  1.212511 -0.099054 -1.192094  0.286324  2.160516   \n",
       "1           1    64 -0.658305  0.406791  2.037461 -0.291298  0.147910   \n",
       "2           2   124  1.105253  0.541842  0.839421  2.570933 -0.279517   \n",
       "3           3   128  1.239495 -0.182609  0.155058 -0.928892 -0.746227   \n",
       "4           4   132 -1.571359  1.687508  0.734670  1.293350 -0.217532   \n",
       "\n",
       "         V6        V7        V8        V9       V10       V11       V12  \\\n",
       "0  3.616314 -0.404207  0.842331  0.169360 -0.030522 -0.541957  0.237212   \n",
       "1 -0.350857  0.945373 -0.172560  0.025133 -0.778135 -0.196290  0.632955   \n",
       "2 -0.423062  0.088019  0.011622 -0.715756  0.651379  0.073787 -0.142024   \n",
       "3 -1.235608 -0.061695 -0.125223  0.984938 -0.746625  1.563459  0.890132   \n",
       "4 -0.002677  0.147364  0.515362 -0.372442  0.078021 -0.592495  0.997941   \n",
       "\n",
       "        V13       V14       V15       V16       V17       V18       V19  \\\n",
       "0 -0.218130  0.197437 -0.147850 -0.097830 -0.510053 -0.070939  0.355171   \n",
       "1  0.374025 -0.531597 -0.615063 -0.518078  0.003881 -1.288954 -0.797804   \n",
       "2 -0.739457  0.502639  0.736688  0.256745 -0.093732 -1.011416 -1.465500   \n",
       "3 -0.985159  0.778734  1.016974 -0.429490 -0.335787  0.614690  0.703133   \n",
       "4  1.109328  0.060048  0.086141 -1.149893  0.765198 -0.810589  0.737550   \n",
       "\n",
       "        V20       V21       V22       V23       V24       V25       V26  \\\n",
       "0  0.014777 -0.167496 -0.494695 -0.149785  1.011227  0.883548 -0.329434   \n",
       "1  0.064133 -0.156096 -0.238805  0.089877  0.421195 -0.352487  0.074783   \n",
       "2 -0.239883 -0.137434 -0.460991  0.189397  0.556329  0.185786 -0.189030   \n",
       "3 -0.160406  0.146077  0.481119 -0.140019  0.538261  0.710720 -0.621382   \n",
       "4 -0.093614  0.048549  0.377256 -0.030436  0.117608 -0.060520 -0.296550   \n",
       "\n",
       "        V27       V28  Amount  Class  \n",
       "0  0.020370  0.017037   34.70      0  \n",
       "1 -0.094192 -0.092493   54.99      0  \n",
       "2  0.000208  0.026167    6.24      0  \n",
       "3  0.036867  0.010963    8.80      0  \n",
       "4 -0.481570 -0.167897   10.00      0  "
      ]
     },
     "execution_count": 5,
     "metadata": {},
     "output_type": "execute_result"
    }
   ],
   "source": [
    "df.head()"
   ]
  },
  {
   "cell_type": "code",
   "execution_count": 10,
   "id": "5af318a6",
   "metadata": {},
   "outputs": [
    {
     "data": {
      "text/plain": [
       "0    7983\n",
       "1      17\n",
       "Name: Class, dtype: int64"
      ]
     },
     "execution_count": 10,
     "metadata": {},
     "output_type": "execute_result"
    }
   ],
   "source": [
    "# Count the occurrences of fraud and no fraud and print them\n",
    "occ = df['Class'].value_counts()\n",
    "occ"
   ]
  },
  {
   "cell_type": "code",
   "execution_count": 11,
   "id": "75fc0beb",
   "metadata": {},
   "outputs": [
    {
     "name": "stdout",
     "output_type": "stream",
     "text": [
      "Ratio of fraudulent cases: 0.002125\n",
      "Ratio of non-fraudulent cases: 0.997875\n"
     ]
    }
   ],
   "source": [
    "# Print the ratio of fraud cases\n",
    "ratio_cases = occ/len(df.index)\n",
    "print(f'Ratio of fraudulent cases: {ratio_cases[1]}\\nRatio of non-fraudulent cases: {ratio_cases[0]}')"
   ]
  },
  {
   "cell_type": "code",
   "execution_count": 12,
   "id": "4b3b94d5",
   "metadata": {},
   "outputs": [],
   "source": [
    "def prep_data(df: pd.DataFrame) -> (np.ndarray, np.ndarray):\n",
    "    \"\"\"\n",
    "    Convert the DataFrame into two variable\n",
    "    X: data columns (V1 - V28)\n",
    "    y: lable column\n",
    "    \"\"\"\n",
    "    X = df.iloc[:, 2:30].values\n",
    "    y = df.Class.values\n",
    "    return X, y"
   ]
  },
  {
   "cell_type": "code",
   "execution_count": 14,
   "id": "aafdffb8",
   "metadata": {},
   "outputs": [],
   "source": [
    "# Define a function to create a scatter plot of our data and labels\n",
    "def plot_data(X: np.ndarray, y: np.ndarray):\n",
    "    plt.scatter(X[y == 0, 0], X[y == 0, 1], label=\"Class #0\", alpha=0.5, linewidth=0.15)\n",
    "    plt.scatter(X[y == 1, 0], X[y == 1, 1], label=\"Class #1\", alpha=0.5, linewidth=0.15, c='r')\n",
    "    plt.legend()\n",
    "    return plt.show()"
   ]
  },
  {
   "cell_type": "code",
   "execution_count": 15,
   "id": "8a31545e",
   "metadata": {},
   "outputs": [],
   "source": [
    "# Create X and y from the prep_data function \n",
    "X, y = prep_data(df)"
   ]
  },
  {
   "cell_type": "code",
   "execution_count": 16,
   "id": "aac1db04",
   "metadata": {},
   "outputs": [
    {
     "data": {
      "image/png": "[encoded data removed]",
      "text/plain": [
       "<Figure size 640x480 with 1 Axes>"
      ]
     },
     "metadata": {},
     "output_type": "display_data"
    }
   ],
   "source": [
    "# Plot our data by running our plot data function on X and y\n",
    "plot_data(X, y)"
   ]
  },
  {
   "cell_type": "code",
   "execution_count": 18,
   "id": "d6984a22",
   "metadata": {},
   "outputs": [
    {
     "data": {
      "image/png": "[encoded data removed]",
      "text/plain": [
       "<Figure size 640x480 with 1 Axes>"
      ]
     },
     "metadata": {},
     "output_type": "display_data"
    }
   ],
   "source": [
    "plt.scatter(df.V2[df.Class == 0], df.V3[df.Class == 0], label=\"Class #0\", alpha=0.5, linewidth=0.15)\n",
    "plt.scatter(df.V2[df.Class == 1], df.V3[df.Class == 1], label=\"Class #1\", alpha=0.5, linewidth=0.15, c='r')\n",
    "plt.legend()\n",
    "plt.show()"
   ]
  },
  {
   "cell_type": "code",
   "execution_count": 19,
   "id": "6a77145f",
   "metadata": {},
   "outputs": [],
   "source": [
    "# Run the prep_data function\n",
    "X, y = prep_data(df)\n"
   ]
  },
  {
   "cell_type": "code",
   "execution_count": 20,
   "id": "2ba59167",
   "metadata": {},
   "outputs": [
    {
     "name": "stdout",
     "output_type": "stream",
     "text": [
      "X shape: (8000, 28)\n",
      "y shape: (8000,)\n"
     ]
    }
   ],
   "source": [
    "print(f'X shape: {X.shape}\\ny shape: {y.shape}')"
   ]
  },
  {
   "cell_type": "code",
   "execution_count": 21,
   "id": "1c096752",
   "metadata": {},
   "outputs": [],
   "source": [
    "# Define the resampling method\n",
    "method = SMOTE()"
   ]
  },
  {
   "cell_type": "code",
   "execution_count": 22,
   "id": "eb222fd3",
   "metadata": {},
   "outputs": [],
   "source": [
    "# Create the resampled feature set\n",
    "X_resampled, y_resampled = method.fit_sample(X, y)"
   ]
  },
  {
   "cell_type": "code",
   "execution_count": 23,
   "id": "d889ecbc",
   "metadata": {},
   "outputs": [
    {
     "data": {
      "image/png": "[encoded data removed]",
      "text/plain": [
       "<Figure size 640x480 with 1 Axes>"
      ]
     },
     "metadata": {},
     "output_type": "display_data"
    }
   ],
   "source": [
    "# Plot the resampled data\n",
    "plot_data(X_resampled, y_resampled)"
   ]
  },
  {
   "cell_type": "code",
   "execution_count": 24,
   "id": "9f818e90",
   "metadata": {},
   "outputs": [
    {
     "data": {
      "text/plain": [
       "0    7983\n",
       "1      17\n",
       "dtype: int64"
      ]
     },
     "execution_count": 24,
     "metadata": {},
     "output_type": "execute_result"
    }
   ],
   "source": [
    "pd.value_counts(pd.Series(y))"
   ]
  },
  {
   "cell_type": "code",
   "execution_count": 25,
   "id": "631caf21",
   "metadata": {},
   "outputs": [
    {
     "data": {
      "text/plain": [
       "0    7983\n",
       "1    7983\n",
       "dtype: int64"
      ]
     },
     "execution_count": 25,
     "metadata": {},
     "output_type": "execute_result"
    }
   ],
   "source": [
    "pd.value_counts(pd.Series(y_resampled))"
   ]
  },
  {
   "cell_type": "code",
   "execution_count": 26,
   "id": "3d8a6fea",
   "metadata": {},
   "outputs": [],
   "source": [
    "def compare_plot(X: np.ndarray, y: np.ndarray, X_resampled: np.ndarray, y_resampled: np.ndarray, method: str):\n",
    "    plt.subplot(1, 2, 1)\n",
    "    plt.scatter(X[y == 0, 0], X[y == 0, 1], label=\"Class #0\", alpha=0.5, linewidth=0.15)\n",
    "    plt.scatter(X[y == 1, 0], X[y == 1, 1], label=\"Class #1\", alpha=0.5, linewidth=0.15, c='r')\n",
    "    plt.title('Original Set')\n",
    "    plt.subplot(1, 2, 2)\n",
    "    plt.scatter(X_resampled[y_resampled == 0, 0], X_resampled[y_resampled == 0, 1], label=\"Class #0\", alpha=0.5, linewidth=0.15)\n",
    "    plt.scatter(X_resampled[y_resampled == 1, 0], X_resampled[y_resampled == 1, 1], label=\"Class #1\", alpha=0.5, linewidth=0.15, c='r')\n",
    "    plt.title(method)\n",
    "    plt.legend()\n",
    "    plt.show()"
   ]
  },
  {
   "cell_type": "code",
   "execution_count": 27,
   "id": "830d62ea",
   "metadata": {},
   "outputs": [
    {
     "data": {
      "image/png": "[encoded data removed]",
      "text/plain": [
       "<Figure size 640x480 with 2 Axes>"
      ]
     },
     "metadata": {},
     "output_type": "display_data"
    }
   ],
   "source": [
    "compare_plot(X, y, X_resampled, y_resampled, method='SMOTE')"
   ]
  },
  {
   "cell_type": "code",
   "execution_count": 28,
   "id": "faf24641",
   "metadata": {},
   "outputs": [],
   "source": [
    "\n",
    "X_train, X_test, y_train, y_test = train_test_split(X, y, test_size=0.2)"
   ]
  },
  {
   "cell_type": "code",
   "execution_count": 29,
   "id": "f202b292",
   "metadata": {},
   "outputs": [],
   "source": [
    "\n",
    "model = LinearRegression()"
   ]
  },
  {
   "cell_type": "code",
   "execution_count": 30,
   "id": "75f6ed4b",
   "metadata": {},
   "outputs": [
    {
     "data": {
      "text/plain": [
       "LinearRegression()"
      ]
     },
     "execution_count": 30,
     "metadata": {},
     "output_type": "execute_result"
    }
   ],
   "source": [
    "\n",
    "model.fit(X_train, y_train)"
   ]
  },
  {
   "cell_type": "code",
   "execution_count": 31,
   "id": "4e40c7a6",
   "metadata": {},
   "outputs": [],
   "source": [
    "\n",
    "y_predicted = model.predict(X_test)"
   ]
  },
  {
   "cell_type": "code",
   "execution_count": 32,
   "id": "155fff01",
   "metadata": {},
   "outputs": [
    {
     "data": {
      "text/plain": [
       "-0.15882309799190386"
      ]
     },
     "execution_count": 32,
     "metadata": {},
     "output_type": "execute_result"
    }
   ],
   "source": [
    "r2_score(y_test, y_predicted)"
   ]
  },
  {
   "cell_type": "code",
   "execution_count": 33,
   "id": "b8949419",
   "metadata": {},
   "outputs": [],
   "source": [
    "df.drop(['Unnamed: 0'], axis=1, inplace=True)"
   ]
  },
  {
   "cell_type": "code",
   "execution_count": 34,
   "id": "8496d286",
   "metadata": {},
   "outputs": [
    {
     "data": {
      "text/html": [
       "<div>\n",
       "<style scoped>\n",
       "    .dataframe tbody tr th:only-of-type {\n",
       "        vertical-align: middle;\n",
       "    }\n",
       "\n",
       "    .dataframe tbody tr th {\n",
       "        vertical-align: top;\n",
       "    }\n",
       "\n",
       "    .dataframe thead th {\n",
       "        text-align: right;\n",
       "    }\n",
       "</style>\n",
       "<table border=\"1\" class=\"dataframe\">\n",
       "  <thead>\n",
       "    <tr style=\"text-align: right;\">\n",
       "      <th></th>\n",
       "      <th>Time</th>\n",
       "      <th>V1</th>\n",
       "      <th>V2</th>\n",
       "      <th>V3</th>\n",
       "      <th>V4</th>\n",
       "      <th>V5</th>\n",
       "      <th>V6</th>\n",
       "      <th>V7</th>\n",
       "      <th>V8</th>\n",
       "      <th>V9</th>\n",
       "      <th>V10</th>\n",
       "      <th>V11</th>\n",
       "      <th>V12</th>\n",
       "      <th>V13</th>\n",
       "      <th>V14</th>\n",
       "      <th>V15</th>\n",
       "      <th>V16</th>\n",
       "      <th>V17</th>\n",
       "      <th>V18</th>\n",
       "      <th>V19</th>\n",
       "      <th>V20</th>\n",
       "      <th>V21</th>\n",
       "      <th>V22</th>\n",
       "      <th>V23</th>\n",
       "      <th>V24</th>\n",
       "      <th>V25</th>\n",
       "      <th>V26</th>\n",
       "      <th>V27</th>\n",
       "      <th>V28</th>\n",
       "      <th>Amount</th>\n",
       "    </tr>\n",
       "    <tr>\n",
       "      <th>Class</th>\n",
       "      <th></th>\n",
       "      <th></th>\n",
       "      <th></th>\n",
       "      <th></th>\n",
       "      <th></th>\n",
       "      <th></th>\n",
       "      <th></th>\n",
       "      <th></th>\n",
       "      <th></th>\n",
       "      <th></th>\n",
       "      <th></th>\n",
       "      <th></th>\n",
       "      <th></th>\n",
       "      <th></th>\n",
       "      <th></th>\n",
       "      <th></th>\n",
       "      <th></th>\n",
       "      <th></th>\n",
       "      <th></th>\n",
       "      <th></th>\n",
       "      <th></th>\n",
       "      <th></th>\n",
       "      <th></th>\n",
       "      <th></th>\n",
       "      <th></th>\n",
       "      <th></th>\n",
       "      <th></th>\n",
       "      <th></th>\n",
       "      <th></th>\n",
       "      <th></th>\n",
       "    </tr>\n",
       "  </thead>\n",
       "  <tbody>\n",
       "    <tr>\n",
       "      <th>0</th>\n",
       "      <td>95383.605161</td>\n",
       "      <td>0.023553</td>\n",
       "      <td>-0.008543</td>\n",
       "      <td>-0.002408</td>\n",
       "      <td>-0.034757</td>\n",
       "      <td>-0.020108</td>\n",
       "      <td>0.003264</td>\n",
       "      <td>0.023668</td>\n",
       "      <td>-0.004720</td>\n",
       "      <td>-0.010660</td>\n",
       "      <td>0.012242</td>\n",
       "      <td>0.005628</td>\n",
       "      <td>0.007979</td>\n",
       "      <td>-0.003281</td>\n",
       "      <td>0.018215</td>\n",
       "      <td>-0.012515</td>\n",
       "      <td>-0.000099</td>\n",
       "      <td>0.005028</td>\n",
       "      <td>0.002325</td>\n",
       "      <td>-0.012212</td>\n",
       "      <td>-0.00692</td>\n",
       "      <td>-0.004279</td>\n",
       "      <td>0.027999</td>\n",
       "      <td>0.006689</td>\n",
       "      <td>-0.000550</td>\n",
       "      <td>-0.000616</td>\n",
       "      <td>0.000659</td>\n",
       "      <td>-0.006740</td>\n",
       "      <td>0.005625</td>\n",
       "      <td>89.721167</td>\n",
       "    </tr>\n",
       "    <tr>\n",
       "      <th>1</th>\n",
       "      <td>83000.176471</td>\n",
       "      <td>-3.235382</td>\n",
       "      <td>1.317054</td>\n",
       "      <td>-3.762234</td>\n",
       "      <td>2.801140</td>\n",
       "      <td>-0.941354</td>\n",
       "      <td>-1.184692</td>\n",
       "      <td>-3.527826</td>\n",
       "      <td>-0.108892</td>\n",
       "      <td>-1.546536</td>\n",
       "      <td>-4.112638</td>\n",
       "      <td>2.697962</td>\n",
       "      <td>-4.649967</td>\n",
       "      <td>-0.597431</td>\n",
       "      <td>-5.104228</td>\n",
       "      <td>-0.137424</td>\n",
       "      <td>-3.176719</td>\n",
       "      <td>-5.237885</td>\n",
       "      <td>-1.630226</td>\n",
       "      <td>0.428150</td>\n",
       "      <td>-0.29245</td>\n",
       "      <td>0.361582</td>\n",
       "      <td>0.159210</td>\n",
       "      <td>-0.119366</td>\n",
       "      <td>-0.144082</td>\n",
       "      <td>0.155552</td>\n",
       "      <td>0.038765</td>\n",
       "      <td>0.265996</td>\n",
       "      <td>0.131853</td>\n",
       "      <td>65.287647</td>\n",
       "    </tr>\n",
       "  </tbody>\n",
       "</table>\n",
       "</div>"
      ],
      "text/plain": [
       "               Time        V1        V2        V3        V4        V5  \\\n",
       "Class                                                                   \n",
       "0      95383.605161  0.023553 -0.008543 -0.002408 -0.034757 -0.020108   \n",
       "1      83000.176471 -3.235382  1.317054 -3.762234  2.801140 -0.941354   \n",
       "\n",
       "             V6        V7        V8        V9       V10       V11       V12  \\\n",
       "Class                                                                         \n",
       "0      0.003264  0.023668 -0.004720 -0.010660  0.012242  0.005628  0.007979   \n",
       "1     -1.184692 -3.527826 -0.108892 -1.546536 -4.112638  2.697962 -4.649967   \n",
       "\n",
       "            V13       V14       V15       V16       V17       V18       V19  \\\n",
       "Class                                                                         \n",
       "0     -0.003281  0.018215 -0.012515 -0.000099  0.005028  0.002325 -0.012212   \n",
       "1     -0.597431 -5.104228 -0.137424 -3.176719 -5.237885 -1.630226  0.428150   \n",
       "\n",
       "           V20       V21       V22       V23       V24       V25       V26  \\\n",
       "Class                                                                        \n",
       "0     -0.00692 -0.004279  0.027999  0.006689 -0.000550 -0.000616  0.000659   \n",
       "1     -0.29245  0.361582  0.159210 -0.119366 -0.144082  0.155552  0.038765   \n",
       "\n",
       "            V27       V28     Amount  \n",
       "Class                                 \n",
       "0     -0.006740  0.005625  89.721167  \n",
       "1      0.265996  0.131853  65.287647  "
      ]
     },
     "execution_count": 34,
     "metadata": {},
     "output_type": "execute_result"
    }
   ],
   "source": [
    "df.groupby('Class').mean()"
   ]
  },
  {
   "cell_type": "code",
   "execution_count": 35,
   "id": "d627d473",
   "metadata": {},
   "outputs": [],
   "source": [
    "df['flag_as_fraud'] = np.where(np.logical_and(df.V1 < -3, df.V3 < -5), 1, 0)"
   ]
  },
  {
   "cell_type": "code",
   "execution_count": 36,
   "id": "3afc007a",
   "metadata": {},
   "outputs": [
    {
     "data": {
      "text/html": [
       "<div>\n",
       "<style scoped>\n",
       "    .dataframe tbody tr th:only-of-type {\n",
       "        vertical-align: middle;\n",
       "    }\n",
       "\n",
       "    .dataframe tbody tr th {\n",
       "        vertical-align: top;\n",
       "    }\n",
       "\n",
       "    .dataframe thead th {\n",
       "        text-align: right;\n",
       "    }\n",
       "</style>\n",
       "<table border=\"1\" class=\"dataframe\">\n",
       "  <thead>\n",
       "    <tr style=\"text-align: right;\">\n",
       "      <th>Flagged Fraud</th>\n",
       "      <th>0</th>\n",
       "      <th>1</th>\n",
       "    </tr>\n",
       "    <tr>\n",
       "      <th>Actual Fraud</th>\n",
       "      <th></th>\n",
       "      <th></th>\n",
       "    </tr>\n",
       "  </thead>\n",
       "  <tbody>\n",
       "    <tr>\n",
       "      <th>0</th>\n",
       "      <td>7949</td>\n",
       "      <td>34</td>\n",
       "    </tr>\n",
       "    <tr>\n",
       "      <th>1</th>\n",
       "      <td>13</td>\n",
       "      <td>4</td>\n",
       "    </tr>\n",
       "  </tbody>\n",
       "</table>\n",
       "</div>"
      ],
      "text/plain": [
       "Flagged Fraud     0   1\n",
       "Actual Fraud           \n",
       "0              7949  34\n",
       "1                13   4"
      ]
     },
     "execution_count": 36,
     "metadata": {},
     "output_type": "execute_result"
    }
   ],
   "source": [
    "pd.crosstab(df.Class, df.flag_as_fraud, rownames=['Actual Fraud'], colnames=['Flagged Fraud'])"
   ]
  },
  {
   "cell_type": "code",
   "execution_count": 37,
   "id": "2759e3ec",
   "metadata": {},
   "outputs": [],
   "source": [
    "X_train, X_test, y_train, y_test = train_test_split(X, y, test_size=0.3, random_state=0)"
   ]
  },
  {
   "cell_type": "code",
   "execution_count": 38,
   "id": "c8b9da0f",
   "metadata": {},
   "outputs": [
    {
     "data": {
      "text/plain": [
       "LogisticRegression(solver='liblinear')"
      ]
     },
     "execution_count": 38,
     "metadata": {},
     "output_type": "execute_result"
    }
   ],
   "source": [
    "model = LogisticRegression(solver='liblinear')\n",
    "model.fit(X_train, y_train)"
   ]
  },
  {
   "cell_type": "code",
   "execution_count": 39,
   "id": "4e5b750f",
   "metadata": {},
   "outputs": [],
   "source": [
    "predicted = model.predict(X_test)"
   ]
  },
  {
   "cell_type": "code",
   "execution_count": 40,
   "id": "541d54ad",
   "metadata": {},
   "outputs": [
    {
     "name": "stdout",
     "output_type": "stream",
     "text": [
      "Classification report:\n",
      "               precision    recall  f1-score   support\n",
      "\n",
      "           0       1.00      1.00      1.00      2390\n",
      "           1       1.00      0.30      0.46        10\n",
      "\n",
      "    accuracy                           1.00      2400\n",
      "   macro avg       1.00      0.65      0.73      2400\n",
      "weighted avg       1.00      1.00      1.00      2400\n",
      "\n",
      "Confusion matrix:\n",
      " [[2390    0]\n",
      " [   7    3]]\n"
     ]
    }
   ],
   "source": [
    "print('Classification report:\\n', classification_report(y_test, predicted))\n",
    "conf_mat = confusion_matrix(y_true=y_test, y_pred=predicted)\n",
    "print('Confusion matrix:\\n', conf_mat)"
   ]
  },
  {
   "cell_type": "code",
   "execution_count": 41,
   "id": "9e2656ab",
   "metadata": {},
   "outputs": [],
   "source": [
    "resampling = BorderlineSMOTE()\n",
    "model = LogisticRegression(solver='liblinear')"
   ]
  },
  {
   "cell_type": "code",
   "execution_count": 42,
   "id": "9ef6a2a7",
   "metadata": {},
   "outputs": [],
   "source": [
    "pipeline = Pipeline([('SMOTE', resampling), ('Logistic Regression', model)])"
   ]
  },
  {
   "cell_type": "code",
   "execution_count": 43,
   "id": "38f13c03",
   "metadata": {},
   "outputs": [],
   "source": [
    "X_train, X_test, y_train, y_test = train_test_split(X, y, test_size=0.3, random_state=0)"
   ]
  },
  {
   "cell_type": "code",
   "execution_count": 44,
   "id": "c11566fe",
   "metadata": {},
   "outputs": [],
   "source": [
    "pipeline.fit(X_train, y_train) \n",
    "predicted = pipeline.predict(X_test)"
   ]
  },
  {
   "cell_type": "code",
   "execution_count": 45,
   "id": "e8d88f1d",
   "metadata": {},
   "outputs": [
    {
     "name": "stdout",
     "output_type": "stream",
     "text": [
      "Classifcation report:\n",
      "               precision    recall  f1-score   support\n",
      "\n",
      "           0       1.00      0.99      1.00      2390\n",
      "           1       0.33      0.60      0.43        10\n",
      "\n",
      "    accuracy                           0.99      2400\n",
      "   macro avg       0.67      0.80      0.71      2400\n",
      "weighted avg       1.00      0.99      0.99      2400\n",
      "\n",
      "Confusion matrix:\n",
      " [[2378   12]\n",
      " [   4    6]]\n"
     ]
    }
   ],
   "source": [
    "print('Classifcation report:\\n', classification_report(y_test, predicted))\n",
    "conf_mat = confusion_matrix(y_true=y_test, y_pred=predicted)\n",
    "print('Confusion matrix:\\n', conf_mat)"
   ]
  },
  {
   "cell_type": "code",
   "execution_count": null,
   "id": "f6729ad2",
   "metadata": {},
   "outputs": [],
   "source": []
  }
 ],
 "metadata": {
  "kernelspec": {
   "display_name": "Python 3 (ipykernel)",
   "language": "python",
   "name": "python3"
  },
  "language_info": {
   "codemirror_mode": {
    "name": "ipython",
    "version": 3
   },
   "file_extension": ".py",
   "mimetype": "text/x-python",
   "name": "python",
   "nbconvert_exporter": "python",
   "pygments_lexer": "ipython3",
   "version": "3.9.13"
  }
 },
 "nbformat": 4,
 "nbformat_minor": 5
}
